{
 "cells": [
  {
   "cell_type": "code",
   "execution_count": null,
   "id": "fd74e728",
   "metadata": {},
   "outputs": [],
   "source": [
    "import numpy as np\n",
    "import pandas as pd\n",
    "import matplotlib.pyplot as plt\n",
    "import plotly.express as px\n",
    "import seaborn as sns\n",
    "import warnings\n",
    "warnings.filterwarnings(\"ignore\")\n",
    "%matplotlib inline"
   ]
  },
  {
   "cell_type": "code",
   "execution_count": null,
   "id": "281c5e1d",
   "metadata": {},
   "outputs": [],
   "source": [
    "df=pd.read_csv('ds_salaries.csv')"
   ]
  },
  {
   "cell_type": "code",
   "execution_count": null,
   "id": "276f0ac2",
   "metadata": {},
   "outputs": [],
   "source": [
    "print(df)"
   ]
  },
  {
   "cell_type": "code",
   "execution_count": null,
   "id": "c86e6855",
   "metadata": {},
   "outputs": [],
   "source": [
    "df.head()"
   ]
  },
  {
   "cell_type": "code",
   "execution_count": null,
   "id": "c5f39b6c",
   "metadata": {},
   "outputs": [],
   "source": [
    "df.tail()"
   ]
  },
  {
   "cell_type": "code",
   "execution_count": null,
   "id": "12f420af",
   "metadata": {},
   "outputs": [],
   "source": [
    "df.shape"
   ]
  },
  {
   "cell_type": "code",
   "execution_count": null,
   "id": "5033dec2",
   "metadata": {},
   "outputs": [],
   "source": [
    "df.isnull().sum()"
   ]
  },
  {
   "cell_type": "code",
   "execution_count": null,
   "id": "1a464394",
   "metadata": {},
   "outputs": [],
   "source": [
    "df.dtypes"
   ]
  },
  {
   "cell_type": "code",
   "execution_count": null,
   "id": "e20c7b77",
   "metadata": {},
   "outputs": [],
   "source": [
    "df.columns=df.columns.str.strip()"
   ]
  },
  {
   "cell_type": "code",
   "execution_count": null,
   "id": "c8fd60ff",
   "metadata": {},
   "outputs": [],
   "source": [
    "df"
   ]
  },
  {
   "cell_type": "code",
   "execution_count": null,
   "id": "e4eeb163",
   "metadata": {},
   "outputs": [],
   "source": [
    "df.info"
   ]
  },
  {
   "cell_type": "code",
   "execution_count": null,
   "id": "62a69f79",
   "metadata": {},
   "outputs": [],
   "source": [
    "df.describe"
   ]
  },
  {
   "cell_type": "code",
   "execution_count": null,
   "id": "2c222ac2",
   "metadata": {},
   "outputs": [],
   "source": [
    "sorted_order=df.groupby('job_title')['salary_in_usd'].mean().sort_values(ascending=False).index\n",
    "plt.figure(figsize=(14, 7))\n",
    "sns.barplot(x='job_title', y='salary_in_usd', data=df,order=sorted_order, palette='viridis', errorbar=('ci',0))\n",
    "plt.xlabel('Job Title')\n",
    "plt.ylabel('Salary')\n",
    "plt.title('Salary Trends based on Job Title')\n",
    "plt.xticks(rotation=90)\n",
    "plt.show()\n"
   ]
  },
  {
   "cell_type": "code",
   "execution_count": null,
   "id": "e721795a",
   "metadata": {},
   "outputs": [],
   "source": [
    "sorted_order=df.groupby('company_size')['salary_in_usd'].mean().sort_values(ascending=False).index\n",
    "plt.figure(figsize=(14,7))\n",
    "sns.barplot(x='company_size',y='salary_in_usd',data=df,order=sorted_order, errorbar=('ci',0))\n",
    "plt.xlabel('Company Size')\n",
    "plt.ylabel('Salary')\n",
    "plt.title('Salary Trends based on Company Size')\n",
    "plt.xticks(rotation=0)\n",
    "plt.show()"
   ]
  },
  {
   "cell_type": "code",
   "execution_count": null,
   "id": "c5797ab1",
   "metadata": {},
   "outputs": [],
   "source": [
    "sorted_order=df.groupby('experience_level')['salary_in_usd'].mean().sort_values(ascending=False).index\n",
    "plt.figure(figsize=(14,7))\n",
    "sns.barplot(x='experience_level',y='salary_in_usd',data=df,order=sorted_order, errorbar=('ci',0))\n",
    "plt.xlabel('Experience Level')\n",
    "plt.ylabel('Salary')\n",
    "plt.title('Salary Trends based on Experience Level')\n",
    "plt.xticks(rotation=0)\n",
    "plt.show()"
   ]
  },
  {
   "cell_type": "code",
   "execution_count": null,
   "id": "f4b3f947",
   "metadata": {},
   "outputs": [],
   "source": [
    "plt.figure(figsize=(14, 7))\n",
    "plt.scatter(x=df['remote_ratio'], y=df['salary'], alpha=0.5)\n",
    "plt.yscale('log')  \n",
    "plt.xlabel('Remote ratio')\n",
    "plt.ylabel('Salary')\n",
    "plt.title('Salary Trends based on Remote Ratio')\n",
    "plt.xticks(rotation=0)\n",
    "plt.show()"
   ]
  },
  {
   "cell_type": "code",
   "execution_count": null,
   "id": "de75d6fb",
   "metadata": {},
   "outputs": [],
   "source": [
    "import plotly.express as px\n",
    "emp_type = df['employment_type'].value_counts()\n",
    "emp_type_df = emp_type.reset_index()\n",
    "emp_type_df.columns = ['employment_type', 'count']\n",
    "fig = px.pie(emp_type_df, values='count', names='employment_type', title='Employment Type')\n",
    "fig.show()"
   ]
  },
  {
   "cell_type": "code",
   "execution_count": null,
   "id": "caec22b3",
   "metadata": {},
   "outputs": [],
   "source": [
    "comp_size = df['company_size'].value_counts()\n",
    "comp_size_df = comp_size.reset_index()\n",
    "comp_size_df.columns = ['company_size', 'count']\n",
    "fig = px.pie(comp_size_df, values='count', names='company_size', title='Company Size')\n",
    "fig.show()"
   ]
  },
  {
   "cell_type": "code",
   "execution_count": null,
   "id": "a84df058",
   "metadata": {},
   "outputs": [],
   "source": [
    "df.value_counts('remote_ratio')"
   ]
  },
  {
   "cell_type": "code",
   "execution_count": null,
   "id": "efd45411",
   "metadata": {},
   "outputs": [],
   "source": [
    "sorted_order=df.groupby('work_year')['salary_in_usd'].mean().sort_values(ascending=False).index\n",
    "plt.figure(figsize=(14,7))\n",
    "sns.barplot(x='work_year',y='salary_in_usd',data=df,order=sorted_order, errorbar=('ci',0),palette='husl')\n",
    "plt.xlabel('Work Year')\n",
    "plt.ylabel('Salary')\n",
    "plt.title('Salary Trends based on Working year')\n",
    "plt.xticks(rotation=0)\n",
    "plt.show()"
   ]
  },
  {
   "cell_type": "code",
   "execution_count": null,
   "id": "49b3eedf",
   "metadata": {},
   "outputs": [],
   "source": [
    "plt.figure(figsize=(14,7))\n",
    "sns.countplot(x='experience_level',data=df)\n",
    "plt.xlabel('Experience Level')\n",
    "plt.title('Experience Level')\n",
    "plt.show()"
   ]
  },
  {
   "cell_type": "code",
   "execution_count": null,
   "id": "01f6835f",
   "metadata": {},
   "outputs": [],
   "source": [
    "data = df.groupby(\"experience_level\")[\"salary_in_usd\"].sum().reset_index()\n",
    "fig = px.pie(data, values='salary_in_usd', names='experience_level', title='Salary based on Experience Level')\n",
    "fig.show()"
   ]
  },
  {
   "cell_type": "code",
   "execution_count": null,
   "id": "92282dda",
   "metadata": {},
   "outputs": [],
   "source": [
    "residence_counts=df['employee_residence'].value_counts().sort_values(ascending=False)\n",
    "plt.figure(figsize=(14,7))\n",
    "sns.countplot(x='employee_residence',data=df,order=residence_counts.index)\n",
    "plt.xlabel('employee_residence')\n",
    "plt.title('Residence of Employees')\n",
    "plt.xticks(rotation=90)\n",
    "plt.show()"
   ]
  },
  {
   "cell_type": "code",
   "execution_count": null,
   "id": "91f6ca2f",
   "metadata": {},
   "outputs": [],
   "source": [
    "sorted_order=df.groupby('company_location')['salary_in_usd'].mean().sort_values(ascending=False).index\n",
    "plt.figure(figsize=(14,7))\n",
    "sns.barplot(x='company_location',y='salary_in_usd',data=df,order=sorted_order, errorbar=('ci',0),palette='husl')\n",
    "plt.xlabel('Company Location')\n",
    "plt.ylabel('Salary')\n",
    "plt.title('Salary Trends based on Company Location')\n",
    "plt.xticks(rotation=0)\n",
    "plt.show()"
   ]
  },
  {
   "cell_type": "code",
   "execution_count": null,
   "id": "a05303d8",
   "metadata": {},
   "outputs": [],
   "source": [
    "compLoc_counts=df['company_location'].value_counts().sort_values(ascending=False)\n",
    "plt.figure(figsize=(14,7))\n",
    "sns.countplot(x='company_location',data=df,order=compLoc_counts.index)\n",
    "plt.xlabel('Company Location')\n",
    "plt.title('Location of Companies where Employees working')\n",
    "plt.xticks(rotation=90)\n",
    "plt.show()"
   ]
  },
  {
   "cell_type": "code",
   "execution_count": null,
   "id": "8940d991",
   "metadata": {},
   "outputs": [],
   "source": [
    "job_counts=df['job_title'].value_counts().sort_values(ascending=False)\n",
    "plt.figure(figsize=(14,7))\n",
    "sns.countplot(x='job_title',data=df,order=job_counts.index)\n",
    "plt.xlabel('Job Title')\n",
    "plt.title('Names of Jobs')\n",
    "plt.xticks(rotation=90)\n",
    "plt.show()"
   ]
  },
  {
   "cell_type": "code",
   "execution_count": null,
   "id": "67de15f9",
   "metadata": {},
   "outputs": [],
   "source": [
    "import matplotlib.pyplot as plt\n",
    "import seaborn as sns\n",
    "\n",
    "correlation = df[['work_year', 'salary', 'salary_in_usd', 'remote_ratio']].corr()\n",
    "\n",
    "plt.figure(figsize=(8, 6))\n",
    "sns.heatmap(correlation, cmap='coolwarm')\n",
    "\n",
    "# Add annotations manually\n",
    "for i in range(correlation.shape[0]):\n",
    "    for j in range(correlation.shape[1]):\n",
    "        plt.text(j+0.5, i+0.5, \"{:.2f}\".format(correlation.iloc[i, j]), ha='center', va='center', color='white')\n",
    "\n",
    "plt.title('Correlation Heatmap')\n",
    "plt.show()\n"
   ]
  },
  {
   "cell_type": "code",
   "execution_count": null,
   "id": "237d71ac",
   "metadata": {},
   "outputs": [],
   "source": [
    "fig = px.sunburst(df, path=['company_size', 'work_year'], values='salary', title='Sunburst Plot of Salary by work year and Company Size')\n",
    "fig.show()"
   ]
  },
  {
   "cell_type": "code",
   "execution_count": null,
   "id": "b176fbed",
   "metadata": {},
   "outputs": [],
   "source": [
    "fig = px.sunburst(df, path=['experience_level', 'work_year'], values='salary', title='Sunburst Plot of Salary by Work Year and Experience Level')\n",
    "fig.show()"
   ]
  },
  {
   "cell_type": "code",
   "execution_count": null,
   "id": "21f01c35",
   "metadata": {},
   "outputs": [],
   "source": [
    "data = df.groupby(\"employment_type\")[\"salary_in_usd\"].sum().reset_index()\n",
    "fig = px.pie(data, values='salary_in_usd', names='employment_type', title='Employees Salary based on type of Employment')\n",
    "fig.show()"
   ]
  },
  {
   "cell_type": "code",
   "execution_count": null,
   "id": "b993ce36",
   "metadata": {},
   "outputs": [],
   "source": [
    "sorted_order=df.groupby('employee_residence')['salary_in_usd'].mean().sort_values(ascending=False).index\n",
    "plt.figure(figsize=(14, 7))\n",
    "sns.barplot(x='employee_residence', y='salary_in_usd', data=df,order=sorted_order, palette='Set3', errorbar=('ci',0))\n",
    "plt.xlabel('Residence of Employees')\n",
    "plt.ylabel('Salary')\n",
    "plt.title('Distribution of Salary based on Employees Residence')\n",
    "plt.xticks(rotation=90)\n",
    "plt.show()"
   ]
  },
  {
   "cell_type": "markdown",
   "id": "81f94d2a",
   "metadata": {},
   "source": [
    "# Conclusion:"
   ]
  },
  {
   "cell_type": "markdown",
   "id": "3677067f",
   "metadata": {},
   "source": [
    "1. Customers who completed Graduation are the highest.\n",
    "2. Customers who has done Graduation tends to have highest income.\n",
    "3. Most of the Customers are married.\n",
    "4. Most of the Customers who are married tends to have highest income.\n",
    "5. Only few Customers accepted the offer in 2nd Campaign. But the value gradually increased in the next campaigns.\n",
    "6. Most of the people accepted the offer in the last campaign.\n",
    "7. Married individuals have the highest recency, followed by those together, single, divorced, and widowed, with the lowest recency.\n",
    "8. Most customers have no children at home, followed by those with one child, and very few with two children.\n",
    "9. Highest number of purchases made with discount is 1.\n",
    "10. Highest number of purchases made directly in stores is 3.\n",
    "11. Highest Number of purchases made through the company’s website is 2.\n",
    "12. Most of the Customers didn't used catalog for purchasing.\n",
    "13. Most of the Customers directly purchased from stores than through website and catalog\n",
    "14. Number of visits to company’s website in the last month is 11,777.\n",
    "15. From the last 2 years, most of the customers brought Wine and Fish.\n",
    "16. Only 0.9% complains were received from the customers.\n",
    "17. Most of the Wine, Meat, Fish, Sweet, Fruit, Gold Products were purchased by the Married Customers."
   ]
  },
  {
   "cell_type": "code",
   "execution_count": null,
   "id": "a7b77ab3",
   "metadata": {},
   "outputs": [],
   "source": []
  }
 ],
 "metadata": {
  "kernelspec": {
   "display_name": "Python 3 (ipykernel)",
   "language": "python",
   "name": "python3"
  },
  "language_info": {
   "codemirror_mode": {
    "name": "ipython",
    "version": 3
   },
   "file_extension": ".py",
   "mimetype": "text/x-python",
   "name": "python",
   "nbconvert_exporter": "python",
   "pygments_lexer": "ipython3",
   "version": "3.11.7"
  }
 },
 "nbformat": 4,
 "nbformat_minor": 5
}
