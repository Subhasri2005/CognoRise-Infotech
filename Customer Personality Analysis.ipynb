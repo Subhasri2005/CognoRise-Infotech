{
 "cells": [
  {
   "cell_type": "code",
   "execution_count": null,
   "id": "7179f793",
   "metadata": {},
   "outputs": [],
   "source": [
    "import numpy as np\n",
    "import pandas as pd\n",
    "import matplotlib.pyplot as plt\n",
    "import plotly.express as px\n",
    "import seaborn as sns\n",
    "import warnings\n",
    "warnings.filterwarnings(\"ignore\")\n",
    "%matplotlib inline"
   ]
  },
  {
   "cell_type": "code",
   "execution_count": null,
   "id": "2579581a",
   "metadata": {},
   "outputs": [],
   "source": [
    "df=pd.read_csv('marketing_campaign.csv')\n",
    "print(df)"
   ]
  },
  {
   "cell_type": "code",
   "execution_count": null,
   "id": "2310aeae",
   "metadata": {},
   "outputs": [],
   "source": [
    "df.head()"
   ]
  },
  {
   "cell_type": "code",
   "execution_count": null,
   "id": "a7c6c1c4",
   "metadata": {},
   "outputs": [],
   "source": [
    "df.tail()"
   ]
  },
  {
   "cell_type": "code",
   "execution_count": null,
   "id": "9b18a24f",
   "metadata": {},
   "outputs": [],
   "source": [
    "df.shape"
   ]
  },
  {
   "cell_type": "code",
   "execution_count": null,
   "id": "e5e0b139",
   "metadata": {},
   "outputs": [],
   "source": [
    "df.isnull().sum()"
   ]
  },
  {
   "cell_type": "code",
   "execution_count": null,
   "id": "7f650ec6",
   "metadata": {},
   "outputs": [],
   "source": [
    "df.dropna(inplace=True)"
   ]
  },
  {
   "cell_type": "code",
   "execution_count": null,
   "id": "2ebb1cd0",
   "metadata": {},
   "outputs": [],
   "source": [
    "df.isnull().sum()"
   ]
  },
  {
   "cell_type": "code",
   "execution_count": null,
   "id": "90d8b5ab",
   "metadata": {},
   "outputs": [],
   "source": [
    "df"
   ]
  },
  {
   "cell_type": "code",
   "execution_count": null,
   "id": "091689bf",
   "metadata": {},
   "outputs": [],
   "source": [
    "print(df.duplicated().sum())"
   ]
  },
  {
   "cell_type": "code",
   "execution_count": null,
   "id": "8e63fef7",
   "metadata": {},
   "outputs": [],
   "source": [
    "df.columns"
   ]
  },
  {
   "cell_type": "code",
   "execution_count": null,
   "id": "26de4d6b",
   "metadata": {},
   "outputs": [],
   "source": [
    "df.columns=df.columns.str.strip()\n",
    "df"
   ]
  },
  {
   "cell_type": "code",
   "execution_count": null,
   "id": "35c3e84c",
   "metadata": {},
   "outputs": [],
   "source": [
    "df.dtypes"
   ]
  },
  {
   "cell_type": "code",
   "execution_count": null,
   "id": "70cdf642",
   "metadata": {},
   "outputs": [],
   "source": [
    "df.info()"
   ]
  },
  {
   "cell_type": "code",
   "execution_count": null,
   "id": "66296178",
   "metadata": {},
   "outputs": [],
   "source": [
    "df.describe()"
   ]
  },
  {
   "cell_type": "code",
   "execution_count": null,
   "id": "9c5d8986",
   "metadata": {},
   "outputs": [],
   "source": [
    "df.drop(['Z_CostContact', 'Z_Revenue'], axis=1, inplace=True)"
   ]
  },
  {
   "cell_type": "code",
   "execution_count": null,
   "id": "7d3785d1",
   "metadata": {},
   "outputs": [],
   "source": [
    "df"
   ]
  },
  {
   "cell_type": "code",
   "execution_count": null,
   "id": "8813200a",
   "metadata": {},
   "outputs": [],
   "source": [
    "df['Age']=2024-df['Year_Birth']\n",
    "df"
   ]
  },
  {
   "cell_type": "code",
   "execution_count": null,
   "id": "dd257f1a",
   "metadata": {},
   "outputs": [],
   "source": [
    "df['Dt_Customer'] = pd.to_datetime(df['Dt_Customer'], format='mixed')"
   ]
  },
  {
   "cell_type": "code",
   "execution_count": null,
   "id": "d25c383c",
   "metadata": {},
   "outputs": [],
   "source": [
    "df"
   ]
  },
  {
   "cell_type": "code",
   "execution_count": null,
   "id": "5228e208",
   "metadata": {},
   "outputs": [],
   "source": [
    "df.value_counts('Education')"
   ]
  },
  {
   "cell_type": "code",
   "execution_count": null,
   "id": "d678f269",
   "metadata": {},
   "outputs": [],
   "source": [
    "plt.figure(figsize=(14,7))\n",
    "sns.countplot(x='Education',data=df)\n",
    "plt.xlabel('Education')\n",
    "plt.show()"
   ]
  },
  {
   "cell_type": "code",
   "execution_count": null,
   "id": "13961308",
   "metadata": {},
   "outputs": [],
   "source": [
    "fig = px.bar(df, x = 'Education', y = \"Income\", color = \"Education\", title = \"Education vs Income\")\n",
    "fig.update_layout(xaxis = {'categoryorder':'total descending'})\n",
    "fig.show()"
   ]
  },
  {
   "cell_type": "code",
   "execution_count": null,
   "id": "1c28c8d5",
   "metadata": {},
   "outputs": [],
   "source": [
    "df.value_counts('Marital_Status')"
   ]
  },
  {
   "cell_type": "code",
   "execution_count": null,
   "id": "844f9fa0",
   "metadata": {},
   "outputs": [],
   "source": [
    "plt.figure(figsize=(14,7))\n",
    "sns.countplot(x='Marital_Status',data=df)\n",
    "plt.xlabel('Marital_Status')\n",
    "plt.show()"
   ]
  },
  {
   "cell_type": "code",
   "execution_count": null,
   "id": "081f0452",
   "metadata": {},
   "outputs": [],
   "source": [
    "fig = px.bar(df, x = 'Marital_Status', y = \"Income\", color = \"Marital_Status\", title = \"Marital_Status vs Income\")\n",
    "fig.update_layout(xaxis = {'categoryorder':'total descending'})\n",
    "fig.show()"
   ]
  },
  {
   "cell_type": "code",
   "execution_count": null,
   "id": "4a9b21a3",
   "metadata": {},
   "outputs": [],
   "source": [
    "df.value_counts('AcceptedCmp1')"
   ]
  },
  {
   "cell_type": "code",
   "execution_count": null,
   "id": "3e206d73",
   "metadata": {},
   "outputs": [],
   "source": [
    "df.value_counts('AcceptedCmp2')"
   ]
  },
  {
   "cell_type": "code",
   "execution_count": null,
   "id": "e89940d5",
   "metadata": {},
   "outputs": [],
   "source": [
    "df.value_counts('AcceptedCmp3')"
   ]
  },
  {
   "cell_type": "code",
   "execution_count": null,
   "id": "0264219c",
   "metadata": {},
   "outputs": [],
   "source": [
    "df.value_counts('AcceptedCmp4')"
   ]
  },
  {
   "cell_type": "code",
   "execution_count": null,
   "id": "dc749899",
   "metadata": {},
   "outputs": [],
   "source": [
    "df.value_counts('AcceptedCmp5')"
   ]
  },
  {
   "cell_type": "code",
   "execution_count": null,
   "id": "7f5c197a",
   "metadata": {},
   "outputs": [],
   "source": [
    "df.value_counts('Response')"
   ]
  },
  {
   "cell_type": "code",
   "execution_count": null,
   "id": "a213b765",
   "metadata": {},
   "outputs": [],
   "source": [
    "df.groupby(\"Marital_Status\")[\"Recency\"].sum().plot(kind = 'pie' ,autopct='%1.1f%%')\n",
    "plt.title('Distribution of Recency by Marital Status')\n",
    "plt.show()"
   ]
  },
  {
   "cell_type": "code",
   "execution_count": null,
   "id": "f4a6fb36",
   "metadata": {},
   "outputs": [],
   "source": [
    "plt.figure(figsize=(14,7))\n",
    "sns.countplot(x='Kidhome',data=df,palette='Set1')\n",
    "plt.xlabel('Kidhome')\n",
    "plt.show()"
   ]
  },
  {
   "cell_type": "code",
   "execution_count": null,
   "id": "61d7ac96",
   "metadata": {},
   "outputs": [],
   "source": [
    "plt.figure(figsize=(14,7))\n",
    "sns.countplot(x='Teenhome',data=df, palette=\"Set2\")\n",
    "plt.xlabel('Teenhome')\n",
    "plt.show()"
   ]
  },
  {
   "cell_type": "code",
   "execution_count": null,
   "id": "6faaa938",
   "metadata": {},
   "outputs": [],
   "source": [
    "df = df[df['Age'] <= 100]\n",
    "df"
   ]
  },
  {
   "cell_type": "code",
   "execution_count": null,
   "id": "8bffd395",
   "metadata": {},
   "outputs": [],
   "source": [
    "age_counts=df['Age'].value_counts().sort_values(ascending=False)\n",
    "plt.figure(figsize=(14,7))\n",
    "sns.countplot(x='Age',data=df,order=age_counts.index)\n",
    "plt.xlabel('Age')\n",
    "plt.xticks(rotation=90)\n",
    "plt.show()"
   ]
  },
  {
   "cell_type": "code",
   "execution_count": null,
   "id": "07562312",
   "metadata": {},
   "outputs": [],
   "source": [
    "sns.scatterplot(x='Age' ,y= 'Recency' ,data=df)\n",
    "plt.title(\"Scatter Plot of Age vs. Recency\")\n",
    "plt.show()"
   ]
  },
  {
   "cell_type": "code",
   "execution_count": null,
   "id": "1ca06ea5",
   "metadata": {},
   "outputs": [],
   "source": [
    "plt.figure(figsize=(14,7))\n",
    "sns.countplot(x='NumDealsPurchases',data=df)\n",
    "plt.xlabel('NumDealsPurchases')\n",
    "plt.show()"
   ]
  },
  {
   "cell_type": "code",
   "execution_count": null,
   "id": "f3f52de8",
   "metadata": {},
   "outputs": [],
   "source": [
    "plt.figure(figsize=(14,7))\n",
    "sns.countplot(x='NumStorePurchases',data=df)\n",
    "plt.xlabel('NumStorePurchases')\n",
    "plt.show()"
   ]
  },
  {
   "cell_type": "code",
   "execution_count": null,
   "id": "b03f5a85",
   "metadata": {},
   "outputs": [],
   "source": [
    "plt.figure(figsize=(14,7))\n",
    "sns.countplot(x='NumWebPurchases',data=df)\n",
    "plt.xlabel('NumWebPurchases')\n",
    "plt.show()"
   ]
  },
  {
   "cell_type": "code",
   "execution_count": null,
   "id": "c48c5dc6",
   "metadata": {},
   "outputs": [],
   "source": [
    "plt.figure(figsize=(14,7))\n",
    "sns.countplot(x='NumCatalogPurchases',data=df)\n",
    "plt.xlabel('NumCatalogPurchases')\n",
    "plt.show()"
   ]
  },
  {
   "cell_type": "code",
   "execution_count": null,
   "id": "4c2a716e",
   "metadata": {},
   "outputs": [],
   "source": [
    "plt.figure(figsize=(14,7))\n",
    "sns.barplot(x='Marital_Status',y='NumStorePurchases',data=df, errorbar=('ci',0))\n",
    "plt.xlabel('Marital_Status')\n",
    "plt.ylabel('NumStorePurchases')\n",
    "plt.title('Marital_Status vs NumStorePurchases')\n",
    "plt.xticks(rotation=45)\n",
    "plt.show()"
   ]
  },
  {
   "cell_type": "code",
   "execution_count": null,
   "id": "93a1e815",
   "metadata": {},
   "outputs": [],
   "source": [
    "plt.figure(figsize=(14,7))\n",
    "sns.barplot(x='Marital_Status',y='NumWebPurchases',data=df, errorbar=('ci',0))\n",
    "plt.xlabel('Marital_Status')\n",
    "plt.ylabel('NumWebPurchases')\n",
    "plt.title('Marital_Status vs NumWebPurchases')\n",
    "plt.xticks(rotation=45)\n",
    "plt.show()"
   ]
  },
  {
   "cell_type": "code",
   "execution_count": null,
   "id": "23845b0f",
   "metadata": {},
   "outputs": [],
   "source": [
    "plt.figure(figsize=(14,7))\n",
    "sns.barplot(x='Marital_Status',y='NumCatalogPurchases',data=df, errorbar=('ci',0))\n",
    "plt.xlabel('Marital_Status')\n",
    "plt.ylabel('NumCatalogPurchases')\n",
    "plt.title('Marital_Status vs NumCatalogPurchases')\n",
    "plt.xticks(rotation=45)\n",
    "plt.show()"
   ]
  },
  {
   "cell_type": "code",
   "execution_count": null,
   "id": "39923092",
   "metadata": {},
   "outputs": [],
   "source": [
    "plt.figure(figsize=(14,7))\n",
    "sns.barplot(x='Marital_Status',y='NumWebVisitsMonth',data=df, errorbar=('ci',0))\n",
    "plt.xlabel('Marital_Status')\n",
    "plt.ylabel('NumWebVisitsMonth')\n",
    "plt.title('Marital_Status vs NumWebVisitsMonth')\n",
    "plt.xticks(rotation=45)\n",
    "plt.show()"
   ]
  },
  {
   "cell_type": "code",
   "execution_count": null,
   "id": "c70767ee",
   "metadata": {},
   "outputs": [],
   "source": [
    "total_sum = df[\"NumDealsPurchases\"].sum()\n",
    "print(f\"Total sum of NumDealsPurchases: {total_sum}\")"
   ]
  },
  {
   "cell_type": "code",
   "execution_count": null,
   "id": "9e1b4105",
   "metadata": {},
   "outputs": [],
   "source": [
    "total_sum = df[\"NumWebPurchases\"].sum()\n",
    "print(f\"Total sum of NumWebPurchases: {total_sum}\")"
   ]
  },
  {
   "cell_type": "code",
   "execution_count": null,
   "id": "6aff9a31",
   "metadata": {},
   "outputs": [],
   "source": [
    "total_sum = df[\"NumCatalogPurchases\"].sum()\n",
    "print(f\"Total sum of NumCatalogPurchases: {total_sum}\")"
   ]
  },
  {
   "cell_type": "code",
   "execution_count": null,
   "id": "d803bd04",
   "metadata": {},
   "outputs": [],
   "source": [
    "total_sum = df[\"NumStorePurchases\"].sum()\n",
    "print(f\"Total sum of NumStorePurchases: {total_sum}\")"
   ]
  },
  {
   "cell_type": "code",
   "execution_count": null,
   "id": "23ba4871",
   "metadata": {},
   "outputs": [],
   "source": [
    "total_sum = df[\"NumWebVisitsMonth\"].sum()\n",
    "print(f\"Total sum of NumWebVisitsMonth: {total_sum}\")"
   ]
  },
  {
   "cell_type": "code",
   "execution_count": null,
   "id": "a80bca8f",
   "metadata": {},
   "outputs": [],
   "source": [
    "data = df.groupby(\"Marital_Status\")[\"MntMeatProducts\"].sum().reset_index()\n",
    "fig = px.pie(data, values='MntMeatProducts', names='Marital_Status', title='Meat Products Sum by Marital Status')\n",
    "fig.show()"
   ]
  },
  {
   "cell_type": "code",
   "execution_count": null,
   "id": "23484718",
   "metadata": {},
   "outputs": [],
   "source": [
    "data = df.groupby(\"Marital_Status\")[\"MntFruits\"].sum().reset_index()\n",
    "fig = px.pie(data, values='MntFruits', names='Marital_Status', title='Fruit Products Sum by Marital Status')\n",
    "fig.show()"
   ]
  },
  {
   "cell_type": "code",
   "execution_count": null,
   "id": "233f94af",
   "metadata": {},
   "outputs": [],
   "source": [
    "data = df.groupby(\"Marital_Status\")[\"MntWines\"].sum().reset_index()\n",
    "fig = px.pie(data, values='MntWines', names='Marital_Status', title='wine Products Sum by Marital Status')\n",
    "fig.show()"
   ]
  },
  {
   "cell_type": "code",
   "execution_count": null,
   "id": "143641e4",
   "metadata": {},
   "outputs": [],
   "source": [
    "data = df.groupby(\"Marital_Status\")[\"MntFishProducts\"].sum().reset_index()\n",
    "fig = px.pie(data, values='MntFishProducts', names='Marital_Status', title='Fish Products Sum by Marital Status')\n",
    "fig.show()"
   ]
  },
  {
   "cell_type": "code",
   "execution_count": null,
   "id": "85662e70",
   "metadata": {},
   "outputs": [],
   "source": [
    "data = df.groupby(\"Marital_Status\")[\"MntSweetProducts\"].sum().reset_index()\n",
    "fig = px.pie(data, values='MntSweetProducts', names='Marital_Status', title='Sweet Products Sum by Marital Status')\n",
    "fig.show()"
   ]
  },
  {
   "cell_type": "code",
   "execution_count": null,
   "id": "594359a4",
   "metadata": {},
   "outputs": [],
   "source": [
    "data = df.groupby(\"Marital_Status\")[\"MntGoldProds\"].sum().reset_index()\n",
    "fig = px.pie(data, values='MntGoldProds', names='Marital_Status', title='Gold Products Sum by Marital Status')\n",
    "fig.show()"
   ]
  },
  {
   "cell_type": "code",
   "execution_count": null,
   "id": "75ec1247",
   "metadata": {},
   "outputs": [],
   "source": [
    "\n",
    "correlation = df[['Income','Kidhome','Teenhome','Recency','MntWines','MntFruits','MntMeatProducts','MntFishProducts','MntSweetProducts',\n",
    "           'MntGoldProds','NumDealsPurchases','NumWebPurchases','NumCatalogPurchases','NumStorePurchases','NumWebVisitsMonth']].corr()\n",
    "plt.figure(figsize=(10,8))\n",
    "sns.heatmap(correlation, cmap='coolwarm')\n",
    "for i in range(correlation.shape[0]):\n",
    "    for j in range(correlation.shape[1]):\n",
    "        plt.text(j+0.5, i+0.5, \"{:.2f}\".format(correlation.iloc[i, j]), ha='center', va='center', color='white')\n",
    "plt.title('Correlation Heatmap')\n",
    "plt.show()"
   ]
  },
  {
   "cell_type": "code",
   "execution_count": null,
   "id": "fdd4e783",
   "metadata": {},
   "outputs": [],
   "source": [
    "fig = px.sunburst(df, path=['Education', 'Marital_Status'], values='Income', title='Sunburst Plot of Income by Education and Marital Status')\n",
    "fig.show()"
   ]
  },
  {
   "cell_type": "code",
   "execution_count": null,
   "id": "39ff7e96",
   "metadata": {},
   "outputs": [],
   "source": [
    "complain_counts = df['Complain'].value_counts()\n",
    "plt.figure(figsize=(8,8))\n",
    "complain_counts.plot(kind='pie', autopct='%1.1f%%')\n",
    "plt.title('Distribution of Complains')\n",
    "plt.ylabel('')\n",
    "plt.show()"
   ]
  },
  {
   "cell_type": "code",
   "execution_count": null,
   "id": "85ca7819",
   "metadata": {},
   "outputs": [],
   "source": [
    "df.value_counts('Complain')"
   ]
  },
  {
   "cell_type": "code",
   "execution_count": null,
   "id": "c7bffbf9",
   "metadata": {},
   "outputs": [],
   "source": [
    "df.groupby(\"Education\")[\"Complain\"].sum().plot(kind = 'pie' ,autopct='%1.1f%%')\n",
    "plt.title('Distribution of Complaints by Education')\n",
    "plt.ylabel('')\n",
    "plt.show()"
   ]
  },
  {
   "cell_type": "code",
   "execution_count": null,
   "id": "275bbee2",
   "metadata": {},
   "outputs": [],
   "source": [
    "df.groupby(\"Marital_Status\")[\"Complain\"].sum().plot(kind = 'pie' ,autopct='%1.1f%%')\n",
    "plt.title('Distribution of Complaints by Marital_Status')\n",
    "plt.show()"
   ]
  },
  {
   "cell_type": "code",
   "execution_count": null,
   "id": "b3c1db13",
   "metadata": {},
   "outputs": [],
   "source": [
    "df.columns"
   ]
  },
  {
   "cell_type": "code",
   "execution_count": null,
   "id": "a5dc9bf3",
   "metadata": {},
   "outputs": [],
   "source": [
    "total_sum = df[\"MntWines\"].sum()\n",
    "print(f\"Total sum of MntWines: {total_sum}\")"
   ]
  },
  {
   "cell_type": "code",
   "execution_count": null,
   "id": "7bef3bd1",
   "metadata": {},
   "outputs": [],
   "source": [
    "total_sum = df[\"MntFruits\"].sum()\n",
    "print(f\"Total sum of MntFruits: {total_sum}\")"
   ]
  },
  {
   "cell_type": "code",
   "execution_count": null,
   "id": "7b0e7a2e",
   "metadata": {},
   "outputs": [],
   "source": [
    "total_sum = df[\"MntMeatProducts\"].sum()\n",
    "print(f\"Total sum of MntMeatProducts: {total_sum}\")"
   ]
  },
  {
   "cell_type": "code",
   "execution_count": null,
   "id": "88103349",
   "metadata": {},
   "outputs": [],
   "source": [
    "total_sum = df[\"MntFishProducts\"].sum()\n",
    "print(f\"Total sum of MntFishProducts: {total_sum}\")"
   ]
  },
  {
   "cell_type": "code",
   "execution_count": null,
   "id": "362aa50f",
   "metadata": {},
   "outputs": [],
   "source": [
    "total_sum = df[\"MntSweetProducts\"].sum()\n",
    "print(f\"Total sum of MntSweetProducts: {total_sum}\")"
   ]
  },
  {
   "cell_type": "code",
   "execution_count": null,
   "id": "47162a38",
   "metadata": {},
   "outputs": [],
   "source": [
    "total_sum = df[\"MntGoldProds\"].sum()\n",
    "print(f\"Total sum of MntGoldProds: {total_sum}\")"
   ]
  },
  {
   "cell_type": "markdown",
   "id": "7a78a24b",
   "metadata": {},
   "source": [
    "# Conclusion:"
   ]
  },
  {
   "cell_type": "markdown",
   "id": "bed93188",
   "metadata": {},
   "source": [
    "1. The job with highest salary is Data Analytics lead.\n",
    "2. The job with second highest salary is Principal Data Engineer.\n",
    "3. The Employee who have Expert level experience gets the highest salary.\n",
    "4. The Employee with remote ratio is 100 has highest salary.\n",
    "5. The most common employment type here is full-time.\n",
    "6. The majority of people work in medium-sized companies.\n",
    "7. In 2022, Salary has increased than in 2021 and 2020.\n",
    "8. The most prevalent employee level is Senior Level.\n",
    "9. The Employee who has remote ratio 100 are the highest. \n",
    "10. Most of the workers residence is in US.\n",
    "11. Employee's who are working in a company located at RU gets the highest salary and the second is US.\n",
    "12. Most of the Employees are working in a company which are located at US.\n",
    "13. Most of the Employees are working as Data Scientist and Data Engineer.\n",
    "14. Employee's whose residence is in MY gets the highest salary.\n",
    "15. The majority of people work as full time gets the highest salary.\n",
    "16. In 2021, who had mid-level experience got highest salary.\n",
    "17. Employee who work in a large company gets the highest salary.\n",
    "18. The majority of people who has senior level experience receives highest salary."
   ]
  }
 ],
 "metadata": {
  "kernelspec": {
   "display_name": "Python 3 (ipykernel)",
   "language": "python",
   "name": "python3"
  },
  "language_info": {
   "codemirror_mode": {
    "name": "ipython",
    "version": 3
   },
   "file_extension": ".py",
   "mimetype": "text/x-python",
   "name": "python",
   "nbconvert_exporter": "python",
   "pygments_lexer": "ipython3",
   "version": "3.11.7"
  }
 },
 "nbformat": 4,
 "nbformat_minor": 5
}
