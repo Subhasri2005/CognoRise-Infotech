{
 "cells": [
  {
   "cell_type": "code",
   "execution_count": null,
   "id": "c68545de",
   "metadata": {},
   "outputs": [],
   "source": [
    "import pandas as pd\n",
    "import numpy as np\n",
    "import matplotlib.pyplot as plt\n",
    "import seaborn as sns\n",
    "import plotly.express as px\n",
    "import warnings\n",
    "warnings.filterwarnings(\"ignore\")\n",
    "%matplotlib inline"
   ]
  },
  {
   "cell_type": "code",
   "execution_count": null,
   "id": "d2cd250c",
   "metadata": {},
   "outputs": [],
   "source": [
    "df = pd.read_csv('Unemployment in India.csv')"
   ]
  },
  {
   "cell_type": "code",
   "execution_count": null,
   "id": "d27df649",
   "metadata": {},
   "outputs": [],
   "source": [
    "print(df)"
   ]
  },
  {
   "cell_type": "code",
   "execution_count": null,
   "id": "bd21167d",
   "metadata": {},
   "outputs": [],
   "source": [
    "#first five rows and columns in dataset\n",
    "df.head()"
   ]
  },
  {
   "cell_type": "code",
   "execution_count": null,
   "id": "cbd3f1f8",
   "metadata": {},
   "outputs": [],
   "source": [
    "#last five rows and columns in datset\n",
    "df.tail()"
   ]
  },
  {
   "cell_type": "code",
   "execution_count": null,
   "id": "042b8bdd",
   "metadata": {},
   "outputs": [],
   "source": [
    "#total number of rows and columns in dataset\n",
    "df.shape"
   ]
  },
  {
   "cell_type": "code",
   "execution_count": null,
   "id": "143662d9",
   "metadata": {},
   "outputs": [],
   "source": [
    "#checking for missing values\n",
    "df.isnull().sum()"
   ]
  },
  {
   "cell_type": "code",
   "execution_count": null,
   "id": "f84b193b",
   "metadata": {},
   "outputs": [],
   "source": [
    "#dropping missing values\n",
    "df.dropna(inplace=True)"
   ]
  },
  {
   "cell_type": "code",
   "execution_count": null,
   "id": "f1762b86",
   "metadata": {},
   "outputs": [],
   "source": [
    "df.isnull().sum()"
   ]
  },
  {
   "cell_type": "code",
   "execution_count": null,
   "id": "9e0e1376",
   "metadata": {},
   "outputs": [],
   "source": [
    "#column's data type\n",
    "df.dtypes"
   ]
  },
  {
   "cell_type": "code",
   "execution_count": null,
   "id": "4b872858",
   "metadata": {},
   "outputs": [],
   "source": [
    "#names of columns in dataset\n",
    "df.columns"
   ]
  },
  {
   "cell_type": "code",
   "execution_count": null,
   "id": "a7da7f24",
   "metadata": {},
   "outputs": [],
   "source": [
    "#removing empty spaces before and after the column names\n",
    "df.columns=df.columns.str.strip()\n",
    "df"
   ]
  },
  {
   "cell_type": "code",
   "execution_count": null,
   "id": "286a6f0c",
   "metadata": {},
   "outputs": [],
   "source": [
    "#checking for duplicate values\n",
    "print(df.duplicated().sum())"
   ]
  },
  {
   "cell_type": "code",
   "execution_count": null,
   "id": "b946403b",
   "metadata": {},
   "outputs": [],
   "source": [
    "#detailed information about dataset\n",
    "df.info()"
   ]
  },
  {
   "cell_type": "code",
   "execution_count": null,
   "id": "bec2a248",
   "metadata": {},
   "outputs": [],
   "source": [
    "#Descriptive statistics\n",
    "df.describe()"
   ]
  },
  {
   "cell_type": "code",
   "execution_count": null,
   "id": "120c6a1d",
   "metadata": {},
   "outputs": [],
   "source": [
    "#Adding column to dataset\n",
    "df['Date'] = pd.to_datetime(df['Date'])\n",
    "df['MM YYYY'] = df['Date'].dt.strftime('%m %Y')"
   ]
  },
  {
   "cell_type": "code",
   "execution_count": null,
   "id": "14c1045a",
   "metadata": {},
   "outputs": [],
   "source": [
    "df"
   ]
  },
  {
   "cell_type": "code",
   "execution_count": null,
   "id": "d892f2ef",
   "metadata": {},
   "outputs": [],
   "source": [
    "#counting unique values of frequency\n",
    "df.value_counts('Frequency')"
   ]
  },
  {
   "cell_type": "code",
   "execution_count": null,
   "id": "50a96365",
   "metadata": {},
   "outputs": [],
   "source": [
    "#replacing ' Monthly' to 'Monthly'\n",
    "df['Frequency']=df['Frequency'].replace(' Monthly','Monthly')"
   ]
  },
  {
   "cell_type": "code",
   "execution_count": null,
   "id": "28eea422",
   "metadata": {},
   "outputs": [],
   "source": [
    "df.value_counts('Frequency')"
   ]
  },
  {
   "cell_type": "code",
   "execution_count": null,
   "id": "410c4f86",
   "metadata": {},
   "outputs": [],
   "source": [
    "#counting unique values in region\n",
    "df.value_counts('Region')"
   ]
  },
  {
   "cell_type": "code",
   "execution_count": null,
   "id": "0e94df83",
   "metadata": {},
   "outputs": [],
   "source": [
    "df['Region'].nunique()"
   ]
  },
  {
   "cell_type": "code",
   "execution_count": null,
   "id": "3a7243ba",
   "metadata": {},
   "outputs": [],
   "source": [
    "#counting unique values in area\n",
    "df.value_counts('Area')"
   ]
  },
  {
   "cell_type": "code",
   "execution_count": null,
   "id": "9b03cc1a",
   "metadata": {},
   "outputs": [],
   "source": [
    "area_count = df['Area'].value_counts()\n",
    "fig = px.pie(area_count, \n",
    "             values=area_count.values, \n",
    "             names=area_count.index, \n",
    "             title='Area Distribution', \n",
    "             hole=0.3)\n",
    "fig.show()"
   ]
  },
  {
   "cell_type": "code",
   "execution_count": null,
   "id": "277c4244",
   "metadata": {},
   "outputs": [],
   "source": [
    "region_count = df['Region'].value_counts()\n",
    "fig = px.pie(region_count, \n",
    "             values=region_count.values, \n",
    "             names=region_count.index, \n",
    "             title='Region Distribution', \n",
    "             hole=0.3)\n",
    "fig.show()"
   ]
  },
  {
   "cell_type": "code",
   "execution_count": null,
   "id": "3b203872",
   "metadata": {},
   "outputs": [],
   "source": [
    "rural = df[df.Area == 'Rural']\n",
    "urban = df[df.Area == 'Urban']"
   ]
  },
  {
   "cell_type": "code",
   "execution_count": null,
   "id": "494a49e5",
   "metadata": {},
   "outputs": [],
   "source": [
    "rural.pivot_table(index = 'MM YYYY', values = 'Estimated Unemployment Rate (%)', aggfunc = np.mean)"
   ]
  },
  {
   "cell_type": "code",
   "execution_count": null,
   "id": "af784f8a",
   "metadata": {},
   "outputs": [],
   "source": [
    "plt.figure(figsize = (14,7))\n",
    "sns.barplot(x = 'MM YYYY', y = 'Estimated Unemployment Rate (%)', data = rural, errorbar=('ci',0), palette='pastel')\n",
    "plt.xlabel('MM YYYY')\n",
    "plt.ylabel('Unemployment Rate (%)')\n",
    "plt.title(\"Rural - Unemployment Rate (%)\");\n",
    "plt.xticks(rotation=45)\n",
    "plt.show()"
   ]
  },
  {
   "cell_type": "code",
   "execution_count": null,
   "id": "4349b98c",
   "metadata": {},
   "outputs": [],
   "source": [
    "plt.figure(figsize = (14,7))\n",
    "sns.barplot(x = 'MM YYYY', y = 'Estimated Unemployment Rate (%)', data = urban, errorbar=('ci', 0))\n",
    "plt.xlabel('Month-Year')\n",
    "plt.ylabel('Unemployment Rate (%)')\n",
    "plt.title(\"Urban - Unemployment Rate (%)\");"
   ]
  },
  {
   "cell_type": "code",
   "execution_count": null,
   "id": "39de24d3",
   "metadata": {},
   "outputs": [],
   "source": [
    "fig = px.sunburst(df, path=['MM YYYY', 'Area'], values='Estimated Unemployment Rate (%)', title='Sunburst Plot of Unemployment Rate Comparison')\n",
    "fig.show()"
   ]
  },
  {
   "cell_type": "code",
   "execution_count": null,
   "id": "3f22b8cc",
   "metadata": {},
   "outputs": [],
   "source": [
    "from matplotlib.ticker import FuncFormatter\n",
    "rural = pd.DataFrame(df)\n",
    "def millions_formatter(x, pos):\n",
    "    return f'{x*1e-6:.1f}M'\n",
    "plt.figure(figsize=(10, 5))\n",
    "sns.barplot(x='MM YYYY', y='Estimated Employed', data=rural, errorbar=('ci', 0), palette='Set2')\n",
    "plt.xlabel('Month-Year')\n",
    "plt.ylabel('Estimated Employed')\n",
    "plt.xticks(rotation=45)\n",
    "plt.title(\"Rural - Estimated Employed\")\n",
    "plt.gca().yaxis.set_major_formatter(FuncFormatter(millions_formatter))\n",
    "plt.show()"
   ]
  },
  {
   "cell_type": "code",
   "execution_count": null,
   "id": "e114e525",
   "metadata": {},
   "outputs": [],
   "source": [
    "from matplotlib.ticker import FuncFormatter\n",
    "rural = pd.DataFrame(df)\n",
    "def millions_formatter(x, pos):\n",
    "    return f'{x*1e-6:.1f}M'\n",
    "plt.figure(figsize=(10, 5))\n",
    "sns.barplot(x='MM YYYY', y='Estimated Employed', data=urban, errorbar=('ci', 0), palette='Set2')\n",
    "plt.xlabel('Month-Year')\n",
    "plt.ylabel('Estimated Employed')\n",
    "plt.xticks(rotation=45)\n",
    "plt.title(\"Urban - Estimated Employed\")\n",
    "plt.gca().yaxis.set_major_formatter(FuncFormatter(millions_formatter))\n",
    "plt.show()"
   ]
  },
  {
   "cell_type": "code",
   "execution_count": null,
   "id": "1aaf5a6f",
   "metadata": {},
   "outputs": [],
   "source": [
    "fig = px.sunburst(df, path=['MM YYYY', 'Area'], values='Estimated Employed', title='Sunburst Plot of Employment Rate Comparison')\n",
    "fig.show()"
   ]
  },
  {
   "cell_type": "code",
   "execution_count": null,
   "id": "c16fdb88",
   "metadata": {},
   "outputs": [],
   "source": [
    "plt.figure(figsize = (12,6))\n",
    "sns.barplot(x = 'MM YYYY', y = 'Estimated Labour Participation Rate (%)', data = rural, errorbar=('ci', 0), palette='Set2')\n",
    "plt.xlabel('Month-Year')\n",
    "plt.ylabel('Labour Participation Rate')\n",
    "plt.title(\"Rural - Labour Participation Rate\");"
   ]
  },
  {
   "cell_type": "code",
   "execution_count": null,
   "id": "b5d79954",
   "metadata": {},
   "outputs": [],
   "source": [
    "plt.figure(figsize = (12,6))\n",
    "sns.barplot(x = 'MM YYYY', y = 'Estimated Labour Participation Rate (%)', data = urban,errorbar=('ci', 0),palette='Set2')\n",
    "plt.xlabel('Month-Year')\n",
    "plt.ylabel('Labour Participation Rate (%)')\n",
    "plt.title(\"Urban - Labour Participation Rate\");"
   ]
  },
  {
   "cell_type": "code",
   "execution_count": null,
   "id": "58011df5",
   "metadata": {},
   "outputs": [],
   "source": [
    "px.scatter(df,x='MM YYYY',y='Estimated Labour Participation Rate (%)',color='Area')"
   ]
  },
  {
   "cell_type": "code",
   "execution_count": null,
   "id": "3d308981",
   "metadata": {},
   "outputs": [],
   "source": [
    "#Estimated unemployment rate over time\n",
    "plt.figure(figsize=(12, 6))\n",
    "sns.lineplot(x='MM YYYY', y='Estimated Unemployment Rate (%)', data=df, marker='o')\n",
    "plt.title('Estimated Unemployment Rate (%) Over Time')\n",
    "plt.xlabel('MM YYYY')\n",
    "plt.ylabel('Estimated Unemployment Rate (%)')\n",
    "plt.xticks(rotation=45)\n",
    "plt.grid(True)\n",
    "plt.show()"
   ]
  },
  {
   "cell_type": "code",
   "execution_count": null,
   "id": "f8453d1a",
   "metadata": {},
   "outputs": [],
   "source": [
    "figure = px.bar(df, x = 'Date', y = 'Estimated Labour Participation Rate (%)', color = 'Date', title = 'Estimated Labour Participation Rate (%)')\n",
    "figure.show()"
   ]
  },
  {
   "cell_type": "code",
   "execution_count": null,
   "id": "e4a6e5c2",
   "metadata": {},
   "outputs": [],
   "source": [
    "#Average, highest and lowest unemployment rate in India\n",
    "#calculating average unemployment rate by region\n",
    "average_unemployment_rate = df.groupby('Region')['Estimated Unemployment Rate (%)'].mean()\n",
    "\n",
    "#State with highest unemployment rate\n",
    "state_with_highest_unemployment_rate = average_unemployment_rate.idxmax()\n",
    "highest_unemployment_rate = average_unemployment_rate.max()\n",
    "\n",
    "#State with lowest unemployment rate\n",
    "state_with_lowest_unemployment_rate = average_unemployment_rate.idxmin()\n",
    "lowest_unemployment_rate = average_unemployment_rate.min()\n",
    "\n",
    "print(\"State with highest unemployment rate:\", state_with_highest_unemployment_rate)\n",
    "print(\"Highest unemployment rate:\", highest_unemployment_rate)\n",
    "print(\"State with lowest unemployment rate:\", state_with_lowest_unemployment_rate)\n",
    "print(\"Lowest unemployment rate:\", lowest_unemployment_rate)"
   ]
  },
  {
   "cell_type": "code",
   "execution_count": null,
   "id": "91adc311",
   "metadata": {},
   "outputs": [],
   "source": [
    "sns.set_palette(\"Set1\")\n",
    "plt.figure(figsize=(12, 6))\n",
    "average_unemployment_rate.sort_values(ascending=False).plot(kind='bar')\n",
    "plt.title(\"Average Unemployment Rate by State\")\n",
    "plt.xlabel(\"Region\")\n",
    "plt.ylabel(\"Average Unemployment Rate (%)\")\n",
    "plt.xticks(rotation=90)\n",
    "plt.show()"
   ]
  },
  {
   "cell_type": "code",
   "execution_count": null,
   "id": "aefdbc56",
   "metadata": {},
   "outputs": [],
   "source": [
    "figure = px.bar(df, x = 'Date', y = 'Estimated Employed', color = 'Date', title = 'Estimated Employed People')\n",
    "figure.show()"
   ]
  },
  {
   "cell_type": "code",
   "execution_count": null,
   "id": "80417e2a",
   "metadata": {},
   "outputs": [],
   "source": [
    "#Average, highest and lowest employment rate in India\n",
    "#calculating average employment rate by region\n",
    "average_employment_rate = df.groupby('Region')['Estimated Employed'].mean()\n",
    "\n",
    "#State with highest unemployment rate\n",
    "state_with_highest_employment_rate = average_employment_rate.idxmax()\n",
    "highest_employment_rate = average_employment_rate.max()\n",
    "\n",
    "#State with lowest unemployment rate\n",
    "state_with_lowest_employment_rate = average_employment_rate.idxmin()\n",
    "lowest_employment_rate = average_employment_rate.min()\n",
    "\n",
    "print(\"State with highest employment rate:\", state_with_highest_employment_rate)\n",
    "print(\"Highest employment rate:\", highest_employment_rate)\n",
    "print(\"State with lowest employment rate:\", state_with_lowest_employment_rate)\n",
    "print(\"Lowest employment rate:\", lowest_employment_rate)"
   ]
  },
  {
   "cell_type": "code",
   "execution_count": null,
   "id": "415bdd15",
   "metadata": {},
   "outputs": [],
   "source": [
    "from matplotlib.ticker import FuncFormatter\n",
    "rural = pd.DataFrame(df)\n",
    "def millions_formatter(x, pos):\n",
    "    return f'{x*1e-6:.1f}M'\n",
    "sns.set_palette('Set2')\n",
    "plt.figure(figsize=(10, 5))\n",
    "average_employment_rate.sort_values(ascending=False).plot(kind='bar')\n",
    "plt.xlabel('Regionr')\n",
    "plt.ylabel('Average Employment Rate (%)')\n",
    "plt.xticks(rotation=90)\n",
    "plt.title(\"Average Employment Rate by State\")\n",
    "plt.gca().yaxis.set_major_formatter(FuncFormatter(millions_formatter))\n",
    "plt.show()"
   ]
  },
  {
   "cell_type": "code",
   "execution_count": null,
   "id": "f9d329a5",
   "metadata": {},
   "outputs": [],
   "source": [
    "#Average, highest and lowest employment rate in India\n",
    "#calculating average employment rate by region\n",
    "average_labour_participation_rate = df.groupby('Region')['Estimated Labour Participation Rate (%)'].mean()\n",
    "\n",
    "#State with highest unemployment rate\n",
    "state_with_highest_labour_participation_rate = average_labour_participation_rate.idxmax()\n",
    "highest_labour_participation_rate = average_labour_participation_rate.max()\n",
    "\n",
    "#State with lowest unemployment rate\n",
    "state_with_lowest_labour_participation_rate = average_labour_participation_rate.idxmin()\n",
    "lowest_labour_participation_rate = average_labour_participation_rate.min()\n",
    "\n",
    "print(\"State with highest labour participation rate:\", state_with_highest_labour_participation_rate)\n",
    "print(\"Highest labour participation rate:\", highest_labour_participation_rate)\n",
    "print(\"State with lowest labour participation rate:\", state_with_lowest_labour_participation_rate)\n",
    "print(\"Lowest labour participation rate:\", lowest_labour_participation_rate)"
   ]
  },
  {
   "cell_type": "code",
   "execution_count": null,
   "id": "74a4fb1a",
   "metadata": {},
   "outputs": [],
   "source": [
    "sns.set_palette(\"viridis\")\n",
    "plt.figure(figsize=(12, 6))\n",
    "average_labour_participation_rate.sort_values(ascending=False).plot(kind='bar')\n",
    "plt.title(\"Average labour participation Rate by State\")\n",
    "plt.xlabel(\"Region\")\n",
    "plt.ylabel(\"Average labour participation Rate (%)\")\n",
    "plt.xticks(rotation=90)\n",
    "plt.show()"
   ]
  },
  {
   "cell_type": "code",
   "execution_count": null,
   "id": "4e0b01e9",
   "metadata": {},
   "outputs": [],
   "source": [
    "fig = px.sunburst(df, path=['Area', 'Region'], values='Estimated Unemployment Rate (%)', title='Sunburst Plot of Estimated Unemployment Rate by Region and Area')\n",
    "fig.show()"
   ]
  },
  {
   "cell_type": "code",
   "execution_count": null,
   "id": "b9a1aec1",
   "metadata": {},
   "outputs": [],
   "source": [
    "correlation = df[['Estimated Unemployment Rate (%)', 'Estimated Employed', 'Estimated Labour Participation Rate (%)']].corr()\n",
    "plt.figure(figsize=(10,8))\n",
    "sns.heatmap(correlation, cmap='coolwarm')\n",
    "for i in range(correlation.shape[0]):\n",
    "    for j in range(correlation.shape[1]):\n",
    "        plt.text(j+0.5, i+0.5, \"{:.2f}\".format(correlation.iloc[i, j]), ha='center', va='center', color='white')\n",
    "plt.title('Correlation Heatmap')\n",
    "plt.show()"
   ]
  },
  {
   "cell_type": "markdown",
   "id": "a82f8ffa",
   "metadata": {},
   "source": [
    "# Conclusion:"
   ]
  },
  {
   "cell_type": "markdown",
   "id": "29b876b3",
   "metadata": {},
   "source": [
    "1. The unemployment rate in rural areas exceeded that in urban areas from May 2019 to May 2020.\n",
    "2. However, by June 2020, the unemployment rates in both urban and rural areas had nearly equalized. \n",
    "3. Notably, in April and May 2020, the unemployment rate surged significantly, coinciding with the onset of the COVID-19 pandemic's economic impact.\n",
    "4. The rural areas have a higher employed population compared to urban areas. \n",
    "5. However, there was a sudden decrease in the employed population during April and May 2020.\n",
    "6. The labor participation rate is higher in rural areas than in urban areas.\n",
    "7. However, there was a sudden decrease in the labor participation rate in April 2020.\n",
    "8. The state with highest unemployment rate is Tripura, while the state with lowest unemployment rate is Meghalaya.\n",
    "9. The state with highest employment rate is Uttar Pradesh, while the state with lowest employment rate is Sikkim.\n",
    "10. The state with highest labour participation rate is Tripura, while the state with lowest labour participation rate is uttarakhand.\n",
    "11. Most of the people are employed at January 31,2020\n",
    "12. From the given data set, the labour participation rate was high in October and November 2019."
   ]
  }
 ],
 "metadata": {
  "kernelspec": {
   "display_name": "Python 3 (ipykernel)",
   "language": "python",
   "name": "python3"
  },
  "language_info": {
   "codemirror_mode": {
    "name": "ipython",
    "version": 3
   },
   "file_extension": ".py",
   "mimetype": "text/x-python",
   "name": "python",
   "nbconvert_exporter": "python",
   "pygments_lexer": "ipython3",
   "version": "3.11.7"
  }
 },
 "nbformat": 4,
 "nbformat_minor": 5
}
